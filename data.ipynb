{
 "cells": [
  {
   "cell_type": "code",
   "execution_count": 1,
   "metadata": {},
   "outputs": [],
   "source": [
    "import pandas as pd \n",
    "import matplotlib.pyplot as plt \n",
    "%matplotlib inline \n",
    "\n",
    "import seaborn as sns\n",
    "import random\n",
    "import warnings\n",
    "warnings.filterwarnings('ignore')"
   ]
  },
  {
   "cell_type": "markdown",
   "metadata": {},
   "source": [
    "Kagglers are challenged to build pronoun resolution systems that perform equally well regardless of pronoun gender. "
   ]
  },
  {
   "cell_type": "markdown",
   "metadata": {},
   "source": [
    "- [Literature Review](https://www.kaggle.com/ashishpatel26/research-study-of-co-reference-resolutions)\n",
    "- [EDA - Kernel](https://www.kaggle.com/tminima/genedered-pronoun-resolution-eda)\n",
    "- [A Machine Learning Approach to Coreference Resolution of Noun Phrases](https://www.mitpressjournals.org/doi/pdfplus/10.1162/089120101753342653)"
   ]
  },
  {
   "cell_type": "markdown",
   "metadata": {},
   "source": [
    "- [Coreference Resolution](https://nlp.stanford.edu/projects/coref.shtml)\n",
    "- [Earthquake Prediction](https://www.kaggle.com/c/LANL-Earthquake-Prediction/data)\n",
    "- [Discourse Analysis](https://www.thoughtco.com/discourse-analysis-or-da-1690462)"
   ]
  },
  {
   "cell_type": "code",
   "execution_count": 2,
   "metadata": {},
   "outputs": [],
   "source": [
    "#!git clone https://github.com/google-research-datasets/gap-coreference.git"
   ]
  },
  {
   "cell_type": "code",
   "execution_count": 3,
   "metadata": {},
   "outputs": [],
   "source": [
    "from pathlib import Path "
   ]
  },
  {
   "cell_type": "code",
   "execution_count": 4,
   "metadata": {},
   "outputs": [],
   "source": [
    "PATH = Path('./gap-coreference/')"
   ]
  },
  {
   "cell_type": "code",
   "execution_count": 5,
   "metadata": {},
   "outputs": [
    {
     "name": "stdout",
     "output_type": "stream",
     "text": [
      "constants.py\n",
      "CONTRIBUTING.md\n",
      "gap_scorer.py\n",
      "gap-development.tsv\n",
      "gap-test.tsv\n",
      "gap-validation.tsv\n",
      "LICENSE\n",
      "README.md\n"
     ]
    }
   ],
   "source": [
    "!ls {PATH}"
   ]
  },
  {
   "cell_type": "code",
   "execution_count": 6,
   "metadata": {},
   "outputs": [
    {
     "data": {
      "text/plain": [
       "(2000, 11)"
      ]
     },
     "execution_count": 6,
     "metadata": {},
     "output_type": "execute_result"
    }
   ],
   "source": [
    "df = pd.read_csv(PATH/\"gap-development.tsv\", sep = '\\t')\n",
    "df.shape"
   ]
  },
  {
   "cell_type": "code",
   "execution_count": 34,
   "metadata": {},
   "outputs": [
    {
     "data": {
      "text/plain": [
       "ID                object\n",
       "Text              object\n",
       "Pronoun           object\n",
       "Pronoun-offset     int64\n",
       "A                 object\n",
       "A-offset           int64\n",
       "A-coref             bool\n",
       "B                 object\n",
       "B-offset           int64\n",
       "B-coref             bool\n",
       "URL               object\n",
       "dtype: object"
      ]
     },
     "execution_count": 34,
     "metadata": {},
     "output_type": "execute_result"
    }
   ],
   "source": [
    "df.dtypes"
   ]
  },
  {
   "cell_type": "code",
   "execution_count": 7,
   "metadata": {},
   "outputs": [
    {
     "data": {
      "text/html": [
       "<div>\n",
       "<style scoped>\n",
       "    .dataframe tbody tr th:only-of-type {\n",
       "        vertical-align: middle;\n",
       "    }\n",
       "\n",
       "    .dataframe tbody tr th {\n",
       "        vertical-align: top;\n",
       "    }\n",
       "\n",
       "    .dataframe thead th {\n",
       "        text-align: right;\n",
       "    }\n",
       "</style>\n",
       "<table border=\"1\" class=\"dataframe\">\n",
       "  <thead>\n",
       "    <tr style=\"text-align: right;\">\n",
       "      <th></th>\n",
       "      <th>ID</th>\n",
       "      <th>Text</th>\n",
       "      <th>Pronoun</th>\n",
       "      <th>Pronoun-offset</th>\n",
       "      <th>A</th>\n",
       "      <th>A-offset</th>\n",
       "      <th>A-coref</th>\n",
       "      <th>B</th>\n",
       "      <th>B-offset</th>\n",
       "      <th>B-coref</th>\n",
       "      <th>URL</th>\n",
       "    </tr>\n",
       "  </thead>\n",
       "  <tbody>\n",
       "    <tr>\n",
       "      <th>0</th>\n",
       "      <td>development-1</td>\n",
       "      <td>Zoe Telford -- played the police officer girlf...</td>\n",
       "      <td>her</td>\n",
       "      <td>274</td>\n",
       "      <td>Cheryl Cassidy</td>\n",
       "      <td>191</td>\n",
       "      <td>True</td>\n",
       "      <td>Pauline</td>\n",
       "      <td>207</td>\n",
       "      <td>False</td>\n",
       "      <td>http://en.wikipedia.org/wiki/List_of_Teachers_...</td>\n",
       "    </tr>\n",
       "    <tr>\n",
       "      <th>1</th>\n",
       "      <td>development-2</td>\n",
       "      <td>He grew up in Evanston, Illinois the second ol...</td>\n",
       "      <td>His</td>\n",
       "      <td>284</td>\n",
       "      <td>MacKenzie</td>\n",
       "      <td>228</td>\n",
       "      <td>True</td>\n",
       "      <td>Bernard Leach</td>\n",
       "      <td>251</td>\n",
       "      <td>False</td>\n",
       "      <td>http://en.wikipedia.org/wiki/Warren_MacKenzie</td>\n",
       "    </tr>\n",
       "    <tr>\n",
       "      <th>2</th>\n",
       "      <td>development-3</td>\n",
       "      <td>He had been reelected to Congress, but resigne...</td>\n",
       "      <td>his</td>\n",
       "      <td>265</td>\n",
       "      <td>Angeloz</td>\n",
       "      <td>173</td>\n",
       "      <td>False</td>\n",
       "      <td>De la Sota</td>\n",
       "      <td>246</td>\n",
       "      <td>True</td>\n",
       "      <td>http://en.wikipedia.org/wiki/Jos%C3%A9_Manuel_...</td>\n",
       "    </tr>\n",
       "    <tr>\n",
       "      <th>3</th>\n",
       "      <td>development-4</td>\n",
       "      <td>The current members of Crime have also perform...</td>\n",
       "      <td>his</td>\n",
       "      <td>321</td>\n",
       "      <td>Hell</td>\n",
       "      <td>174</td>\n",
       "      <td>False</td>\n",
       "      <td>Henry Rosenthal</td>\n",
       "      <td>336</td>\n",
       "      <td>True</td>\n",
       "      <td>http://en.wikipedia.org/wiki/Crime_(band)</td>\n",
       "    </tr>\n",
       "    <tr>\n",
       "      <th>4</th>\n",
       "      <td>development-5</td>\n",
       "      <td>Her Santa Fe Opera debut in 2005 was as Nuria ...</td>\n",
       "      <td>She</td>\n",
       "      <td>437</td>\n",
       "      <td>Kitty Oppenheimer</td>\n",
       "      <td>219</td>\n",
       "      <td>False</td>\n",
       "      <td>Rivera</td>\n",
       "      <td>294</td>\n",
       "      <td>True</td>\n",
       "      <td>http://en.wikipedia.org/wiki/Jessica_Rivera</td>\n",
       "    </tr>\n",
       "  </tbody>\n",
       "</table>\n",
       "</div>"
      ],
      "text/plain": [
       "              ID                                               Text Pronoun  \\\n",
       "0  development-1  Zoe Telford -- played the police officer girlf...     her   \n",
       "1  development-2  He grew up in Evanston, Illinois the second ol...     His   \n",
       "2  development-3  He had been reelected to Congress, but resigne...     his   \n",
       "3  development-4  The current members of Crime have also perform...     his   \n",
       "4  development-5  Her Santa Fe Opera debut in 2005 was as Nuria ...     She   \n",
       "\n",
       "   Pronoun-offset                  A  A-offset  A-coref                B  \\\n",
       "0             274     Cheryl Cassidy       191     True          Pauline   \n",
       "1             284          MacKenzie       228     True    Bernard Leach   \n",
       "2             265            Angeloz       173    False       De la Sota   \n",
       "3             321               Hell       174    False  Henry Rosenthal   \n",
       "4             437  Kitty Oppenheimer       219    False           Rivera   \n",
       "\n",
       "   B-offset  B-coref                                                URL  \n",
       "0       207    False  http://en.wikipedia.org/wiki/List_of_Teachers_...  \n",
       "1       251    False      http://en.wikipedia.org/wiki/Warren_MacKenzie  \n",
       "2       246     True  http://en.wikipedia.org/wiki/Jos%C3%A9_Manuel_...  \n",
       "3       336     True          http://en.wikipedia.org/wiki/Crime_(band)  \n",
       "4       294     True        http://en.wikipedia.org/wiki/Jessica_Rivera  "
      ]
     },
     "execution_count": 7,
     "metadata": {},
     "output_type": "execute_result"
    }
   ],
   "source": [
    "df.head()"
   ]
  },
  {
   "cell_type": "code",
   "execution_count": 35,
   "metadata": {},
   "outputs": [
    {
     "data": {
      "text/plain": [
       "Index(['ID', 'Text', 'Pronoun', 'Pronoun-offset', 'A', 'A-offset', 'A-coref',\n",
       "       'B', 'B-offset', 'B-coref', 'URL'],\n",
       "      dtype='object')"
      ]
     },
     "execution_count": 35,
     "metadata": {},
     "output_type": "execute_result"
    }
   ],
   "source": [
    "df.columns"
   ]
  },
  {
   "cell_type": "code",
   "execution_count": 8,
   "metadata": {},
   "outputs": [
    {
     "data": {
      "text/plain": [
       "\"Zoe Telford -- played the police officer girlfriend of Simon, Maggie. Dumped by Simon in the final episode of series 1, after he slept with Jenny, and is not seen again. Phoebe Thomas played Cheryl Cassidy, Pauline's friend and also a year 11 pupil in Simon's class. Dumped her boyfriend following Simon's advice after he wouldn't have sex with her but later realised this was due to him catching crabs off her friend Pauline.\""
      ]
     },
     "execution_count": 8,
     "metadata": {},
     "output_type": "execute_result"
    }
   ],
   "source": [
    "df['Text'][0]"
   ]
  },
  {
   "cell_type": "code",
   "execution_count": 9,
   "metadata": {},
   "outputs": [
    {
     "data": {
      "text/plain": [
       "' her boyfriend following Si'"
      ]
     },
     "execution_count": 9,
     "metadata": {},
     "output_type": "execute_result"
    }
   ],
   "source": [
    "df['Text'][0][273:300]"
   ]
  },
  {
   "cell_type": "code",
   "execution_count": 10,
   "metadata": {},
   "outputs": [
    {
     "data": {
      "text/plain": [
       "'Cheryl Cassidy'"
      ]
     },
     "execution_count": 10,
     "metadata": {},
     "output_type": "execute_result"
    }
   ],
   "source": [
    "df.loc[0]['A']"
   ]
  },
  {
   "cell_type": "code",
   "execution_count": 11,
   "metadata": {},
   "outputs": [
    {
     "data": {
      "text/plain": [
       "(2000, 11)"
      ]
     },
     "execution_count": 11,
     "metadata": {},
     "output_type": "execute_result"
    }
   ],
   "source": [
    "df_test = pd.read_csv(PATH/\"gap-test.tsv\", sep = '\\t')\n",
    "df_test.shape "
   ]
  },
  {
   "cell_type": "code",
   "execution_count": 12,
   "metadata": {},
   "outputs": [
    {
     "data": {
      "text/html": [
       "<div>\n",
       "<style scoped>\n",
       "    .dataframe tbody tr th:only-of-type {\n",
       "        vertical-align: middle;\n",
       "    }\n",
       "\n",
       "    .dataframe tbody tr th {\n",
       "        vertical-align: top;\n",
       "    }\n",
       "\n",
       "    .dataframe thead th {\n",
       "        text-align: right;\n",
       "    }\n",
       "</style>\n",
       "<table border=\"1\" class=\"dataframe\">\n",
       "  <thead>\n",
       "    <tr style=\"text-align: right;\">\n",
       "      <th></th>\n",
       "      <th>ID</th>\n",
       "      <th>Text</th>\n",
       "      <th>Pronoun</th>\n",
       "      <th>Pronoun-offset</th>\n",
       "      <th>A</th>\n",
       "      <th>A-offset</th>\n",
       "      <th>A-coref</th>\n",
       "      <th>B</th>\n",
       "      <th>B-offset</th>\n",
       "      <th>B-coref</th>\n",
       "      <th>URL</th>\n",
       "    </tr>\n",
       "  </thead>\n",
       "  <tbody>\n",
       "    <tr>\n",
       "      <th>0</th>\n",
       "      <td>test-1</td>\n",
       "      <td>Upon their acceptance into the Kontinental Hoc...</td>\n",
       "      <td>His</td>\n",
       "      <td>383</td>\n",
       "      <td>Bob Suter</td>\n",
       "      <td>352</td>\n",
       "      <td>False</td>\n",
       "      <td>Dehner</td>\n",
       "      <td>366</td>\n",
       "      <td>True</td>\n",
       "      <td>http://en.wikipedia.org/wiki/Jeremy_Dehner</td>\n",
       "    </tr>\n",
       "    <tr>\n",
       "      <th>1</th>\n",
       "      <td>test-2</td>\n",
       "      <td>Between the years 1979-1981, River won four lo...</td>\n",
       "      <td>him</td>\n",
       "      <td>430</td>\n",
       "      <td>Alonso</td>\n",
       "      <td>353</td>\n",
       "      <td>True</td>\n",
       "      <td>Alfredo Di St*fano</td>\n",
       "      <td>390</td>\n",
       "      <td>False</td>\n",
       "      <td>http://en.wikipedia.org/wiki/Norberto_Alonso</td>\n",
       "    </tr>\n",
       "    <tr>\n",
       "      <th>2</th>\n",
       "      <td>test-3</td>\n",
       "      <td>Though his emigration from the country has aff...</td>\n",
       "      <td>He</td>\n",
       "      <td>312</td>\n",
       "      <td>Ali Aladhadh</td>\n",
       "      <td>256</td>\n",
       "      <td>True</td>\n",
       "      <td>Saddam</td>\n",
       "      <td>295</td>\n",
       "      <td>False</td>\n",
       "      <td>http://en.wikipedia.org/wiki/Aladhadh</td>\n",
       "    </tr>\n",
       "    <tr>\n",
       "      <th>3</th>\n",
       "      <td>test-4</td>\n",
       "      <td>At the trial, Pisciotta said: ``Those who have...</td>\n",
       "      <td>his</td>\n",
       "      <td>526</td>\n",
       "      <td>Alliata</td>\n",
       "      <td>377</td>\n",
       "      <td>False</td>\n",
       "      <td>Pisciotta</td>\n",
       "      <td>536</td>\n",
       "      <td>True</td>\n",
       "      <td>http://en.wikipedia.org/wiki/Gaspare_Pisciotta</td>\n",
       "    </tr>\n",
       "    <tr>\n",
       "      <th>4</th>\n",
       "      <td>test-5</td>\n",
       "      <td>It is about a pair of United States Navy shore...</td>\n",
       "      <td>his</td>\n",
       "      <td>406</td>\n",
       "      <td>Eddie</td>\n",
       "      <td>421</td>\n",
       "      <td>True</td>\n",
       "      <td>Rock Reilly</td>\n",
       "      <td>559</td>\n",
       "      <td>False</td>\n",
       "      <td>http://en.wikipedia.org/wiki/Chasers</td>\n",
       "    </tr>\n",
       "  </tbody>\n",
       "</table>\n",
       "</div>"
      ],
      "text/plain": [
       "       ID                                               Text Pronoun  \\\n",
       "0  test-1  Upon their acceptance into the Kontinental Hoc...     His   \n",
       "1  test-2  Between the years 1979-1981, River won four lo...     him   \n",
       "2  test-3  Though his emigration from the country has aff...      He   \n",
       "3  test-4  At the trial, Pisciotta said: ``Those who have...     his   \n",
       "4  test-5  It is about a pair of United States Navy shore...     his   \n",
       "\n",
       "   Pronoun-offset             A  A-offset  A-coref                   B  \\\n",
       "0             383     Bob Suter       352    False              Dehner   \n",
       "1             430        Alonso       353     True  Alfredo Di St*fano   \n",
       "2             312  Ali Aladhadh       256     True              Saddam   \n",
       "3             526       Alliata       377    False           Pisciotta   \n",
       "4             406         Eddie       421     True         Rock Reilly   \n",
       "\n",
       "   B-offset  B-coref                                             URL  \n",
       "0       366     True      http://en.wikipedia.org/wiki/Jeremy_Dehner  \n",
       "1       390    False    http://en.wikipedia.org/wiki/Norberto_Alonso  \n",
       "2       295    False           http://en.wikipedia.org/wiki/Aladhadh  \n",
       "3       536     True  http://en.wikipedia.org/wiki/Gaspare_Pisciotta  \n",
       "4       559    False            http://en.wikipedia.org/wiki/Chasers  "
      ]
     },
     "execution_count": 12,
     "metadata": {},
     "output_type": "execute_result"
    }
   ],
   "source": [
    "df_test.head()"
   ]
  },
  {
   "cell_type": "code",
   "execution_count": 13,
   "metadata": {},
   "outputs": [
    {
     "data": {
      "text/plain": [
       "Index(['ID', 'Text', 'Pronoun', 'Pronoun-offset', 'A', 'A-offset', 'A-coref',\n",
       "       'B', 'B-offset', 'B-coref', 'URL'],\n",
       "      dtype='object')"
      ]
     },
     "execution_count": 13,
     "metadata": {},
     "output_type": "execute_result"
    }
   ],
   "source": [
    "df.columns"
   ]
  },
  {
   "cell_type": "code",
   "execution_count": 14,
   "metadata": {},
   "outputs": [
    {
     "data": {
      "text/plain": [
       "Index(['ID', 'Text', 'Pronoun', 'Pronoun-offset', 'A', 'A-offset', 'A-coref',\n",
       "       'B', 'B-offset', 'B-coref', 'URL'],\n",
       "      dtype='object')"
      ]
     },
     "execution_count": 14,
     "metadata": {},
     "output_type": "execute_result"
    }
   ],
   "source": [
    "df_test.columns"
   ]
  },
  {
   "cell_type": "code",
   "execution_count": 15,
   "metadata": {},
   "outputs": [
    {
     "data": {
      "text/plain": [
       "ID                                                           test-1\n",
       "Text              Upon their acceptance into the Kontinental Hoc...\n",
       "Pronoun                                                         His\n",
       "Pronoun-offset                                                  383\n",
       "A                                                         Bob Suter\n",
       "A-offset                                                        352\n",
       "A-coref                                                       False\n",
       "B                                                            Dehner\n",
       "B-offset                                                        366\n",
       "B-coref                                                        True\n",
       "URL                      http://en.wikipedia.org/wiki/Jeremy_Dehner\n",
       "Name: 0, dtype: object"
      ]
     },
     "execution_count": 15,
     "metadata": {},
     "output_type": "execute_result"
    }
   ],
   "source": [
    "df_test.loc[0]"
   ]
  },
  {
   "cell_type": "code",
   "execution_count": null,
   "metadata": {},
   "outputs": [],
   "source": []
  },
  {
   "cell_type": "code",
   "execution_count": 16,
   "metadata": {},
   "outputs": [],
   "source": [
    "def get_random_sample(df):\n",
    "    return df.loc[random.randint(0, df.shape[0])]"
   ]
  },
  {
   "cell_type": "code",
   "execution_count": null,
   "metadata": {},
   "outputs": [],
   "source": []
  },
  {
   "cell_type": "markdown",
   "metadata": {},
   "source": [
    "### Task\n",
    "\n",
    "```You must identify the target of a pronoun within a text passage. The source text is taken from Wikipedia articles. You are provided with the pronoun and two candidate names to which the pronoun could refer. You must create an algorithm capable of deciding whether the pronoun refers to name A, name B, or neither.```"
   ]
  },
  {
   "cell_type": "markdown",
   "metadata": {},
   "source": [
    "```Markables```: definite noun phrases, demonstrative noun phrases, proper names, appositives, sub–noun phrases that act as modifiers, pronouns, and so on."
   ]
  },
  {
   "cell_type": "markdown",
   "metadata": {},
   "source": [
    "```Distance/Distributions``` between two ```markables```"
   ]
  },
  {
   "cell_type": "code",
   "execution_count": 17,
   "metadata": {},
   "outputs": [
    {
     "data": {
      "image/png": "[encoded data removed]",
      "text/plain": [
       "<Figure size 720x360 with 1 Axes>"
      ]
     },
     "metadata": {},
     "output_type": "display_data"
    }
   ],
   "source": [
    "opacity = 0.3\n",
    "fig, ax = plt.subplots(1,1, figsize=(10,5))\n",
    "df['Pronoun-offset'].hist(ax=ax, fc=(0, 0, 1, opacity), label='Pronoun_offset') #(R,G,B,A)\n",
    "df['A-offset'].hist(ax=ax, fc=(0,1,0,opacity), label='A-offset')\n",
    "df['B-offset'].hist(ax=ax, fc=(1,0,0, opacity), label='B-offset')\n",
    "ax.legend()\n",
    "sns.despine()"
   ]
  },
  {
   "cell_type": "markdown",
   "metadata": {},
   "source": [
    "**Features from the paper**: \n",
    "   \n",
    "Our feature vector consists of a total of 12 features described below, and is derived based on two extracted markables, ```i``` and ```j```, where ```i``` is the ```potential antecedent``` and ```j``` is the ```anaphor```. Information needed to derive the feature vectors is provided by the pipeline of language-processing modules prior to the coreference engine.\n",
    "    "
   ]
  },
  {
   "cell_type": "code",
   "execution_count": 18,
   "metadata": {},
   "outputs": [],
   "source": [
    "s = get_random_sample(df)"
   ]
  },
  {
   "cell_type": "code",
   "execution_count": 20,
   "metadata": {},
   "outputs": [
    {
     "data": {
      "text/html": [
       "<div>\n",
       "<style scoped>\n",
       "    .dataframe tbody tr th:only-of-type {\n",
       "        vertical-align: middle;\n",
       "    }\n",
       "\n",
       "    .dataframe tbody tr th {\n",
       "        vertical-align: top;\n",
       "    }\n",
       "\n",
       "    .dataframe thead th {\n",
       "        text-align: right;\n",
       "    }\n",
       "</style>\n",
       "<table border=\"1\" class=\"dataframe\">\n",
       "  <thead>\n",
       "    <tr style=\"text-align: right;\">\n",
       "      <th></th>\n",
       "      <th>0</th>\n",
       "      <th>1</th>\n",
       "      <th>2</th>\n",
       "    </tr>\n",
       "  </thead>\n",
       "  <tbody>\n",
       "    <tr>\n",
       "      <th>ID</th>\n",
       "      <td>development-1</td>\n",
       "      <td>development-2</td>\n",
       "      <td>development-3</td>\n",
       "    </tr>\n",
       "    <tr>\n",
       "      <th>Text</th>\n",
       "      <td>Zoe Telford -- played the police officer girlf...</td>\n",
       "      <td>He grew up in Evanston, Illinois the second ol...</td>\n",
       "      <td>He had been reelected to Congress, but resigne...</td>\n",
       "    </tr>\n",
       "    <tr>\n",
       "      <th>Pronoun</th>\n",
       "      <td>her</td>\n",
       "      <td>His</td>\n",
       "      <td>his</td>\n",
       "    </tr>\n",
       "    <tr>\n",
       "      <th>Pronoun-offset</th>\n",
       "      <td>274</td>\n",
       "      <td>284</td>\n",
       "      <td>265</td>\n",
       "    </tr>\n",
       "    <tr>\n",
       "      <th>A</th>\n",
       "      <td>Cheryl Cassidy</td>\n",
       "      <td>MacKenzie</td>\n",
       "      <td>Angeloz</td>\n",
       "    </tr>\n",
       "    <tr>\n",
       "      <th>A-offset</th>\n",
       "      <td>191</td>\n",
       "      <td>228</td>\n",
       "      <td>173</td>\n",
       "    </tr>\n",
       "    <tr>\n",
       "      <th>A-coref</th>\n",
       "      <td>True</td>\n",
       "      <td>True</td>\n",
       "      <td>False</td>\n",
       "    </tr>\n",
       "    <tr>\n",
       "      <th>B</th>\n",
       "      <td>Pauline</td>\n",
       "      <td>Bernard Leach</td>\n",
       "      <td>De la Sota</td>\n",
       "    </tr>\n",
       "    <tr>\n",
       "      <th>B-offset</th>\n",
       "      <td>207</td>\n",
       "      <td>251</td>\n",
       "      <td>246</td>\n",
       "    </tr>\n",
       "    <tr>\n",
       "      <th>B-coref</th>\n",
       "      <td>False</td>\n",
       "      <td>False</td>\n",
       "      <td>True</td>\n",
       "    </tr>\n",
       "    <tr>\n",
       "      <th>URL</th>\n",
       "      <td>http://en.wikipedia.org/wiki/List_of_Teachers_...</td>\n",
       "      <td>http://en.wikipedia.org/wiki/Warren_MacKenzie</td>\n",
       "      <td>http://en.wikipedia.org/wiki/Jos%C3%A9_Manuel_...</td>\n",
       "    </tr>\n",
       "  </tbody>\n",
       "</table>\n",
       "</div>"
      ],
      "text/plain": [
       "                                                                0  \\\n",
       "ID                                                  development-1   \n",
       "Text            Zoe Telford -- played the police officer girlf...   \n",
       "Pronoun                                                       her   \n",
       "Pronoun-offset                                                274   \n",
       "A                                                  Cheryl Cassidy   \n",
       "A-offset                                                      191   \n",
       "A-coref                                                      True   \n",
       "B                                                         Pauline   \n",
       "B-offset                                                      207   \n",
       "B-coref                                                     False   \n",
       "URL             http://en.wikipedia.org/wiki/List_of_Teachers_...   \n",
       "\n",
       "                                                                1  \\\n",
       "ID                                                  development-2   \n",
       "Text            He grew up in Evanston, Illinois the second ol...   \n",
       "Pronoun                                                       His   \n",
       "Pronoun-offset                                                284   \n",
       "A                                                       MacKenzie   \n",
       "A-offset                                                      228   \n",
       "A-coref                                                      True   \n",
       "B                                                   Bernard Leach   \n",
       "B-offset                                                      251   \n",
       "B-coref                                                     False   \n",
       "URL                 http://en.wikipedia.org/wiki/Warren_MacKenzie   \n",
       "\n",
       "                                                                2  \n",
       "ID                                                  development-3  \n",
       "Text            He had been reelected to Congress, but resigne...  \n",
       "Pronoun                                                       his  \n",
       "Pronoun-offset                                                265  \n",
       "A                                                         Angeloz  \n",
       "A-offset                                                      173  \n",
       "A-coref                                                     False  \n",
       "B                                                      De la Sota  \n",
       "B-offset                                                      246  \n",
       "B-coref                                                      True  \n",
       "URL             http://en.wikipedia.org/wiki/Jos%C3%A9_Manuel_...  "
      ]
     },
     "execution_count": 20,
     "metadata": {},
     "output_type": "execute_result"
    }
   ],
   "source": [
    "df.head(n=3).T"
   ]
  },
  {
   "cell_type": "code",
   "execution_count": 21,
   "metadata": {},
   "outputs": [
    {
     "data": {
      "text/plain": [
       "(664,\n",
       " 114,\n",
       " \"Walsmear's only reason for proving to himself that the fairies were real, was to assuage his conscience -- to convince himself that she died as a result of seeing fairies, as opposed to her committing suicide from guilt as a result of her having an affair with Walsmear. Castle's interest in the fairies, by this time, was purely self-serving; he fancied he had made an amazing discovery in the garden and prepared to take some photographs of the garden at night, using special lighting techniques. On his way to the garden the next night, however, Castle once again ran into Paolo and Shorty, whom Walsmear hired to steal the photographs from the Templeton house.\")"
      ]
     },
     "execution_count": 21,
     "metadata": {},
     "output_type": "execute_result"
    }
   ],
   "source": [
    "len(s['Text']), len(s['Text'].split(' ')), s['Text']"
   ]
  },
  {
   "cell_type": "code",
   "execution_count": 40,
   "metadata": {},
   "outputs": [
    {
     "data": {
      "text/plain": [
       "0       Zoe Telford -- played the police officer girlf...\n",
       "1       He grew up in Evanston, Illinois the second ol...\n",
       "2       He had been reelected to Congress, but resigne...\n",
       "3       The current members of Crime have also perform...\n",
       "4       Her Santa Fe Opera debut in 2005 was as Nuria ...\n",
       "5       Sandra Collins is an American DJ. She got her ...\n",
       "6       Reb Chaim Yaakov's wife is the sister of Rabbi...\n",
       "7       Slant Magazine's Sal Cinquemani viewed the alb...\n",
       "8       Her father was an Englishman ``of rank and cul...\n",
       "9       Shaftesbury's UK partners in the production of...\n",
       "10      William Shatner portraying writer Mark Twain; ...\n",
       "11      His maternal great-grandfather was Henry Percy...\n",
       "12      Killian in 1978--79, an assistant district att...\n",
       "13      ARTA driver Vitantonio Liuzzi will be replaced...\n",
       "14      Twenty years ago, Lorenzo Uribe discovered tru...\n",
       "15      A colleague in the department run by Erwin Fri...\n",
       "16      Maurice custom-tailors clothing for de Var*ze ...\n",
       "17      In 1988, Race suffered an abdominal injury and...\n",
       "18      The rest of the group find out what has happen...\n",
       "19      On 30 July 1966, Ramsey's promise was fulfille...\n",
       "20      Ben Severson is a pioneer in the sport of body...\n",
       "21      This device allowed him to continue his racing...\n",
       "22      The meeting went a little differently from wha...\n",
       "23      Louis McNeill begin her publishing career sell...\n",
       "24      Her initial ambition was to become a ``culture...\n",
       "25      They were broadly positive, though they stoppe...\n",
       "26      Connie, in a one-sided conversation, gives pra...\n",
       "27      This is a list of episodes from the MTV show B...\n",
       "28      Meet Mike, the shortest bully to appear on the...\n",
       "29      With only six months' experience under his bel...\n",
       "                              ...                        \n",
       "1970    Maria tries to warn Natasha off him, claiming ...\n",
       "1971    The first series began in April 2016 and retur...\n",
       "1972    Here he settled in Paris at first, but in 1859...\n",
       "1973    Early in Brooke's career, she signed a develop...\n",
       "1974    Princess Elizabeth of Sweden, (also Elisabet G...\n",
       "1975    Her doll description calls her ``a curious pra...\n",
       "1976    ``Don't Cry Your Heart Out'' was radio-friendl...\n",
       "1977    Jacky had decked out the Lorelei Lee to carry ...\n",
       "1978    The series begins with Bloody Jack, Curse of t...\n",
       "1979    After this stint, much of her acting consists ...\n",
       "1980    Anne Sewell Young was born in Bloomington, Wis...\n",
       "1981    The Season Nine DVD contains a number of delet...\n",
       "1982    After a long fight to establish a licensed hot...\n",
       "1983    He died at a very young age in 1822 after a bo...\n",
       "1984    It was reported in December 2009 that Biddall ...\n",
       "1985    Her personal best for long jump is 6.55 m set ...\n",
       "1986    The scene was extremely moving, and shocked fa...\n",
       "1987    On the morning of her disappearance, Alison st...\n",
       "1988    Burnett Stone (Peter Fonda) is Lily's grandfat...\n",
       "1989    It premiered on 2 October 2003 at the Mahalia ...\n",
       "1990    Her name, which means ``My friend'' in (French...\n",
       "1991    Desperate to avoid disappointing Little Ricky,...\n",
       "1992    Patric followed her back to Weatherfield and t...\n",
       "1993    She then determined on becoming an artist, and...\n",
       "1994    Bill Grainer Bill Grainer is a Grammy certifie...\n",
       "1995    Faye's third husband, Paul Resnick, reported t...\n",
       "1996    The plot of the film focuses on the life of a ...\n",
       "1997    Grant played the part in Trevor Nunn's movie a...\n",
       "1998    The fashion house specialised in hand-printed ...\n",
       "1999    Watkins was a close friend of Hess' first wife...\n",
       "Name: Text, Length: 2000, dtype: object"
      ]
     },
     "execution_count": 40,
     "metadata": {},
     "output_type": "execute_result"
    }
   ],
   "source": [
    "df['Text']"
   ]
  },
  {
   "cell_type": "code",
   "execution_count": 41,
   "metadata": {},
   "outputs": [],
   "source": [
    "df['sent_len'] = df['Text'].apply(lambda x: len(x))"
   ]
  },
  {
   "cell_type": "code",
   "execution_count": 42,
   "metadata": {},
   "outputs": [
    {
     "data": {
      "text/html": [
       "<div>\n",
       "<style scoped>\n",
       "    .dataframe tbody tr th:only-of-type {\n",
       "        vertical-align: middle;\n",
       "    }\n",
       "\n",
       "    .dataframe tbody tr th {\n",
       "        vertical-align: top;\n",
       "    }\n",
       "\n",
       "    .dataframe thead th {\n",
       "        text-align: right;\n",
       "    }\n",
       "</style>\n",
       "<table border=\"1\" class=\"dataframe\">\n",
       "  <thead>\n",
       "    <tr style=\"text-align: right;\">\n",
       "      <th></th>\n",
       "      <th>0</th>\n",
       "      <th>1</th>\n",
       "    </tr>\n",
       "  </thead>\n",
       "  <tbody>\n",
       "    <tr>\n",
       "      <th>ID</th>\n",
       "      <td>development-1</td>\n",
       "      <td>development-2</td>\n",
       "    </tr>\n",
       "    <tr>\n",
       "      <th>Text</th>\n",
       "      <td>Zoe Telford -- played the police officer girlf...</td>\n",
       "      <td>He grew up in Evanston, Illinois the second ol...</td>\n",
       "    </tr>\n",
       "    <tr>\n",
       "      <th>Pronoun</th>\n",
       "      <td>her</td>\n",
       "      <td>His</td>\n",
       "    </tr>\n",
       "    <tr>\n",
       "      <th>Pronoun-offset</th>\n",
       "      <td>274</td>\n",
       "      <td>284</td>\n",
       "    </tr>\n",
       "    <tr>\n",
       "      <th>A</th>\n",
       "      <td>Cheryl Cassidy</td>\n",
       "      <td>MacKenzie</td>\n",
       "    </tr>\n",
       "    <tr>\n",
       "      <th>A-offset</th>\n",
       "      <td>191</td>\n",
       "      <td>228</td>\n",
       "    </tr>\n",
       "    <tr>\n",
       "      <th>A-coref</th>\n",
       "      <td>True</td>\n",
       "      <td>True</td>\n",
       "    </tr>\n",
       "    <tr>\n",
       "      <th>B</th>\n",
       "      <td>Pauline</td>\n",
       "      <td>Bernard Leach</td>\n",
       "    </tr>\n",
       "    <tr>\n",
       "      <th>B-offset</th>\n",
       "      <td>207</td>\n",
       "      <td>251</td>\n",
       "    </tr>\n",
       "    <tr>\n",
       "      <th>B-coref</th>\n",
       "      <td>False</td>\n",
       "      <td>False</td>\n",
       "    </tr>\n",
       "    <tr>\n",
       "      <th>URL</th>\n",
       "      <td>http://en.wikipedia.org/wiki/List_of_Teachers_...</td>\n",
       "      <td>http://en.wikipedia.org/wiki/Warren_MacKenzie</td>\n",
       "    </tr>\n",
       "    <tr>\n",
       "      <th>sent_len</th>\n",
       "      <td>426</td>\n",
       "      <td>410</td>\n",
       "    </tr>\n",
       "  </tbody>\n",
       "</table>\n",
       "</div>"
      ],
      "text/plain": [
       "                                                                0  \\\n",
       "ID                                                  development-1   \n",
       "Text            Zoe Telford -- played the police officer girlf...   \n",
       "Pronoun                                                       her   \n",
       "Pronoun-offset                                                274   \n",
       "A                                                  Cheryl Cassidy   \n",
       "A-offset                                                      191   \n",
       "A-coref                                                      True   \n",
       "B                                                         Pauline   \n",
       "B-offset                                                      207   \n",
       "B-coref                                                     False   \n",
       "URL             http://en.wikipedia.org/wiki/List_of_Teachers_...   \n",
       "sent_len                                                      426   \n",
       "\n",
       "                                                                1  \n",
       "ID                                                  development-2  \n",
       "Text            He grew up in Evanston, Illinois the second ol...  \n",
       "Pronoun                                                       His  \n",
       "Pronoun-offset                                                284  \n",
       "A                                                       MacKenzie  \n",
       "A-offset                                                      228  \n",
       "A-coref                                                      True  \n",
       "B                                                   Bernard Leach  \n",
       "B-offset                                                      251  \n",
       "B-coref                                                     False  \n",
       "URL                 http://en.wikipedia.org/wiki/Warren_MacKenzie  \n",
       "sent_len                                                      410  "
      ]
     },
     "execution_count": 42,
     "metadata": {},
     "output_type": "execute_result"
    }
   ],
   "source": [
    "df.head(n=2).T"
   ]
  },
  {
   "cell_type": "code",
   "execution_count": 55,
   "metadata": {},
   "outputs": [
    {
     "data": {
      "text/plain": [
       "0       Zoe Telford -- played the police officer girlf...\n",
       "1       He grew up in Evanston, Illinois the second ol...\n",
       "2       He had been reelected to Congress, but resigne...\n",
       "3       The current members of Crime have also perform...\n",
       "4       Her Santa Fe Opera debut in 2005 was as Nuria ...\n",
       "5       Sandra Collins is an American DJ. She got her ...\n",
       "6       Reb Chaim Yaakov's wife is the sister of Rabbi...\n",
       "7       Slant Magazine's Sal Cinquemani viewed the alb...\n",
       "8       Her father was an Englishman ``of rank and cul...\n",
       "9       Shaftesbury's UK partners in the production of...\n",
       "10      William Shatner portraying writer Mark Twain; ...\n",
       "11      His maternal great-grandfather was Henry Percy...\n",
       "12      Killian in 1978--79, an assistant district att...\n",
       "13      ARTA driver Vitantonio Liuzzi will be replaced...\n",
       "14      Twenty years ago, Lorenzo Uribe discovered tru...\n",
       "15      A colleague in the department run by Erwin Fri...\n",
       "16      Maurice custom-tailors clothing for de Var*ze ...\n",
       "17      In 1988, Race suffered an abdominal injury and...\n",
       "18      The rest of the group find out what has happen...\n",
       "19      On 30 July 1966, Ramsey's promise was fulfille...\n",
       "20      Ben Severson is a pioneer in the sport of body...\n",
       "21      This device allowed him to continue his racing...\n",
       "22      The meeting went a little differently from wha...\n",
       "23      Louis McNeill begin her publishing career sell...\n",
       "24      Her initial ambition was to become a ``culture...\n",
       "25      They were broadly positive, though they stoppe...\n",
       "26      Connie, in a one-sided conversation, gives pra...\n",
       "27      This is a list of episodes from the MTV show B...\n",
       "28      Meet Mike, the shortest bully to appear on the...\n",
       "29      With only six months' experience under his bel...\n",
       "                              ...                        \n",
       "1970    Maria tries to warn Natasha off him, claiming ...\n",
       "1971    The first series began in April 2016 and retur...\n",
       "1972    Here he settled in Paris at first, but in 1859...\n",
       "1973    Early in Brooke's career, she signed a develop...\n",
       "1974    Princess Elizabeth of Sweden, (also Elisabet G...\n",
       "1975    Her doll description calls her ``a curious pra...\n",
       "1976    ``Don't Cry Your Heart Out'' was radio-friendl...\n",
       "1977    Jacky had decked out the Lorelei Lee to carry ...\n",
       "1978    The series begins with Bloody Jack, Curse of t...\n",
       "1979    After this stint, much of her acting consists ...\n",
       "1980    Anne Sewell Young was born in Bloomington, Wis...\n",
       "1981    The Season Nine DVD contains a number of delet...\n",
       "1982    After a long fight to establish a licensed hot...\n",
       "1983    He died at a very young age in 1822 after a bo...\n",
       "1984    It was reported in December 2009 that Biddall ...\n",
       "1985    Her personal best for long jump is 6.55 m set ...\n",
       "1986    The scene was extremely moving, and shocked fa...\n",
       "1987    On the morning of her disappearance, Alison st...\n",
       "1988    Burnett Stone (Peter Fonda) is Lily's grandfat...\n",
       "1989    It premiered on 2 October 2003 at the Mahalia ...\n",
       "1990    Her name, which means ``My friend'' in (French...\n",
       "1991    Desperate to avoid disappointing Little Ricky,...\n",
       "1992    Patric followed her back to Weatherfield and t...\n",
       "1993    She then determined on becoming an artist, and...\n",
       "1994    Bill Grainer Bill Grainer is a Grammy certifie...\n",
       "1995    Faye's third husband, Paul Resnick, reported t...\n",
       "1996    The plot of the film focuses on the life of a ...\n",
       "1997    Grant played the part in Trevor Nunn's movie a...\n",
       "1998    The fashion house specialised in hand-printed ...\n",
       "1999    Watkins was a close friend of Hess' first wife...\n",
       "Length: 2000, dtype: object"
      ]
     },
     "execution_count": 55,
     "metadata": {},
     "output_type": "execute_result"
    }
   ],
   "source": [
    "df.apply(lambda row: row['Text'], axis=1)"
   ]
  },
  {
   "cell_type": "code",
   "execution_count": null,
   "metadata": {},
   "outputs": [],
   "source": []
  },
  {
   "cell_type": "code",
   "execution_count": null,
   "metadata": {},
   "outputs": [],
   "source": []
  },
  {
   "cell_type": "code",
   "execution_count": null,
   "metadata": {},
   "outputs": [],
   "source": []
  }
 ],
 "metadata": {
  "kernelspec": {
   "display_name": "Python 3",
   "language": "python",
   "name": "python3"
  },
  "language_info": {
   "codemirror_mode": {
    "name": "ipython",
    "version": 3
   },
   "file_extension": ".py",
   "mimetype": "text/x-python",
   "name": "python",
   "nbconvert_exporter": "python",
   "pygments_lexer": "ipython3",
   "version": "3.5.4"
  }
 },
 "nbformat": 4,
 "nbformat_minor": 2
}
